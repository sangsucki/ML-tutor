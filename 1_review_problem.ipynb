{
  "nbformat": 4,
  "nbformat_minor": 0,
  "metadata": {
    "colab": {
      "name": "1. 리뷰(문제).ipynb",
      "provenance": [],
      "collapsed_sections": [],
      "include_colab_link": true
    },
    "kernelspec": {
      "name": "python3",
      "display_name": "Python 3"
    },
    "language_info": {
      "name": "python"
    }
  },
  "cells": [
    {
      "cell_type": "markdown",
      "metadata": {
        "id": "view-in-github",
        "colab_type": "text"
      },
      "source": [
        "<a href=\"https://colab.research.google.com/github/sangsucki/ML-tutor/blob/main/1.review%20(problem).ipynb\" target=\"_parent\"><img src=\"https://colab.research.google.com/assets/colab-badge.svg\" alt=\"Open In Colab\"/></a>"
      ]
    },
    {
      "cell_type": "markdown",
      "source": [
        "# Review "
      ],
      "metadata": {
        "id": "LhwmyRRmIbGX"
      }
    },
    {
      "cell_type": "markdown",
      "source": [
        "### 문제 1. 평균 계산하기\n",
        "\n",
        "- 철수는 5개의 과목에서 주어진 리스트와 같은 성적을 받았습니다.\n",
        "\n",
        "- 철수가 받은 성적의 평균을 계산하는 코드를 작성하세요."
      ],
      "metadata": {
        "id": "-XFBYMTCI8pP"
      }
    },
    {
      "cell_type": "code",
      "source": [
        "# 각 성적은 0~100점 사이입니다.\n",
        "grades = [65, 70, 100, 43, 50]"
      ],
      "metadata": {
        "id": "Jrwe21_4I6JJ"
      },
      "execution_count": null,
      "outputs": []
    },
    {
      "cell_type": "code",
      "source": [
        ""
      ],
      "metadata": {
        "id": "X1Nd6lFiiolL"
      },
      "execution_count": null,
      "outputs": []
    },
    {
      "cell_type": "markdown",
      "source": [
        "### 문제 2. 리스트를 한 번 만들어볼까요?\n",
        "* 어떤 학급의 아이 5명의 키에 대한 정보가 주어집니다.\n",
        "* 이를 리스트로 만들고 heights 라는 변수에 담아주세요.\n",
        "*  175.3, 146, 184, 160, 167 \n",
        "> 단위인 cm는 표시하지 마세요. 숫자만!"
      ],
      "metadata": {
        "id": "B_ghQKvBJFnu"
      }
    },
    {
      "cell_type": "code",
      "source": [
        ""
      ],
      "metadata": {
        "id": "FKdZNXoAiuPE"
      },
      "execution_count": null,
      "outputs": []
    },
    {
      "cell_type": "markdown",
      "source": [
        "### 문제 3. 리스트의 데이터 타입을 한 번 만들어볼까요?\n",
        " - 위 문제 11번에서 만든 리스트의 데이터 타입을 확인해봅시다. \n",
        "> HINT : type() 를 이용하시면 됩니다. : )"
      ],
      "metadata": {
        "id": "a2PaNyWVJqc3"
      }
    },
    {
      "cell_type": "code",
      "source": [
        ""
      ],
      "metadata": {
        "id": "htKVJzfZivIG"
      },
      "execution_count": null,
      "outputs": []
    },
    {
      "cell_type": "markdown",
      "source": [
        "### 문제 4. '장훈이'이라는 친구가 전학을 왔네요.\n",
        "* 이 친구의 키는 207cm 입니다. ()\n",
        "* 이를 반영하여 코드로 구현해보고, heights의 길이를 구해보세요\n",
        "* 한 명이 전학을 왔으니, 6명이 되었겠군요.\n",
        "* 마찬가지로, cm는 표시하지 않습니다.\n",
        "> HINT : append()"
      ],
      "metadata": {
        "id": "bNEwV8mEJxzv"
      }
    },
    {
      "cell_type": "code",
      "source": [
        ""
      ],
      "metadata": {
        "id": "KEOj46ifiv2T"
      },
      "execution_count": null,
      "outputs": []
    },
    {
      "cell_type": "markdown",
      "source": [
        "### 문제 5. 장훈이만 이름이 있는 것이 아니다!\n",
        "- 5명의 아이들의 키는 있지만, 누구의 키인지 알 수 없었지만, 이제 알 수 있습니다.\n",
        "  - 양세형: 146(cm),  유세윤: 160(cm),  서강준: 167(cm),  유재석: 175.3(cm),  서장훈: 207cm\n",
        "  - cm 는 표시하지 않습니다.\n",
        "- 데이터 타입 중 Dictionary로 위처럼 이름(name - key)과 키(height - value)를 같이 붙여주려고 합니다. \n",
        "- 이를 코드로 작성해서 class_A 라는 변수에 담아줍니다. "
      ],
      "metadata": {
        "id": "BQ4uciKlKC1t"
      }
    },
    {
      "cell_type": "code",
      "source": [
        "## class_A 변수를 만들어주세요\n"
      ],
      "metadata": {
        "id": "INVJ-7UH1T6R"
      },
      "execution_count": null,
      "outputs": []
    },
    {
      "cell_type": "code",
      "source": [
        "## 세형이의 키를 알아볼까요?\n"
      ],
      "metadata": {
        "id": "WJ9zOGRQKt3I"
      },
      "execution_count": null,
      "outputs": []
    },
    {
      "cell_type": "markdown",
      "source": [
        "### 문제 6. 이번에는 키로 학급의 어린이를 검색해보려고 합니다. \n",
        " - 예를 들면, \"175.3cm 인 친구는 누구였지?\"\n",
        " - 이를 코드로 구현해보고, 키가 175.3cm 인 친구를 찾아봅시다.\n",
        " > HINT : for 문을 이용해봅시다."
      ],
      "metadata": {
        "id": "6jR8wnbHKuMl"
      }
    },
    {
      "cell_type": "code",
      "source": [
        ""
      ],
      "metadata": {
        "id": "j27ZmT5CjDno"
      },
      "execution_count": null,
      "outputs": []
    },
    {
      "cell_type": "markdown",
      "source": [
        "### 문제 7. 간단한 계산기 함수를 만들어봅시다. \n",
        " - 더하기 기능의 간단한 함수를 코드로 작성해봅니다. \n",
        " - 이번에는 파라미터 number_01, number_02 를 받고, 이 둘을 더하는 함수 plus()를 코드로 작성합니다.\n",
        "    - 파라미터: 함수를 선언할 때 호출하는 부분에서 보내주는 데이터를 받는 변수를 뜻합니다. \n",
        "    - 아규먼트: 함수를 호출할 때 함수에 보내주는 데이터를 뜻합니다.\n",
        " - 함수를 구현한 후, 숫자 100과 23을 함수에 대입하여 함수를 실행해봅시다.\n",
        "\n",
        "> HINT: def function_name(a, b)"
      ],
      "metadata": {
        "id": "DLUP70DTLu-D"
      }
    },
    {
      "cell_type": "code",
      "source": [
        ""
      ],
      "metadata": {
        "id": "P7ibFrDvjE7M"
      },
      "execution_count": null,
      "outputs": []
    },
    {
      "cell_type": "markdown",
      "source": [
        "### 문제 8. 조건문이 들어간 간단한 함수를 코드 한 줄로 구현해봅시다.\n",
        "\n",
        " - 키가 180cm이상인 사람들의 경우, \"키가 정말 크군요\" 라는 메세지가 출력, 그렇지 않은 경우를 \"계속 키가 클 것입니다. : )\" 라는 메세지로 출력하도록 합니다.\n",
        " \n",
        " - height_high(181)과 height_high(178)을 각각 실행해볼까요?"
      ],
      "metadata": {
        "id": "8RXzzfp4QZRB"
      }
    },
    {
      "cell_type": "code",
      "source": [
        ""
      ],
      "metadata": {
        "id": "iOxwxictjIdP"
      },
      "execution_count": null,
      "outputs": []
    },
    {
      "cell_type": "code",
      "source": [
        "# height_high(181)을 각각 실행해볼까요?\n",
        "height_high(181)"
      ],
      "metadata": {
        "id": "pEw-AOf5Qf4f"
      },
      "execution_count": null,
      "outputs": []
    },
    {
      "cell_type": "code",
      "source": [
        "# height_high(178)을 각각 실행해볼까요?\n",
        "height_high(178)"
      ],
      "metadata": {
        "id": "sgXdoLJXQnsK"
      },
      "execution_count": null,
      "outputs": []
    }
  ]
}
