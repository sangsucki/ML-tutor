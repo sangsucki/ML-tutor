{
  "nbformat": 4,
  "nbformat_minor": 0,
  "metadata": {
    "colab": {
      "name": "(실습문제) 2. 분류문제.ipynb",
      "provenance": [],
      "collapsed_sections": [],
      "authorship_tag": "ABX9TyNwmW3xexnxO1ylB6Wmtou3",
      "include_colab_link": true
    },
    "kernelspec": {
      "name": "python3",
      "display_name": "Python 3"
    },
    "language_info": {
      "name": "python"
    }
  },
  "cells": [
    {
      "cell_type": "markdown",
      "metadata": {
        "id": "view-in-github",
        "colab_type": "text"
      },
      "source": [
        "<a href=\"https://colab.research.google.com/github/sangsucki/ML-tutor/blob/main/2_classification_problem.ipynb\" target=\"_parent\"><img src=\"https://colab.research.google.com/assets/colab-badge.svg\" alt=\"Open In Colab\"/></a>"
      ]
    },
    {
      "cell_type": "code",
      "execution_count": null,
      "metadata": {
        "id": "-N35q3DIYNrX"
      },
      "outputs": [],
      "source": [
        "from google.colab import drive\n",
        "drive.mount('/content/drive')"
      ]
    },
    {
      "cell_type": "code",
      "source": [
        "# 분석에 필요한 라이브러리를 불러옵니다\n",
        "import numpy as np\n",
        "import pandas as pd\n",
        "import matplotlib.pyplot as plt\n",
        "import seaborn as sns \n",
        "\n",
        "import warnings\n",
        "warnings.filterwarnings('ignore')"
      ],
      "metadata": {
        "id": "DMQZYmw_YU1X"
      },
      "execution_count": null,
      "outputs": []
    },
    {
      "cell_type": "markdown",
      "source": [
        "# 문제1. 데이터 읽기"
      ],
      "metadata": {
        "id": "Gux9PUGSapwh"
      }
    },
    {
      "cell_type": "markdown",
      "source": [
        "- pd.read_csv 활용 (separation 기호) "
      ],
      "metadata": {
        "id": "R8QcSmyqffNU"
      }
    },
    {
      "cell_type": "code",
      "source": [
        ""
      ],
      "metadata": {
        "id": "va3b8kZMjZom"
      },
      "execution_count": null,
      "outputs": []
    },
    {
      "cell_type": "markdown",
      "source": [
        "# 문제2. 라벨링 부여"
      ],
      "metadata": {
        "id": "WFsmxOskawB7"
      }
    },
    {
      "cell_type": "markdown",
      "source": [
        "- white = 1, red = 0 으로 새로운 컬럼 만들기"
      ],
      "metadata": {
        "id": "cJng0eYigDeL"
      }
    },
    {
      "cell_type": "code",
      "source": [
        ""
      ],
      "metadata": {
        "id": "SpGF2FCmjaLX"
      },
      "execution_count": null,
      "outputs": []
    },
    {
      "cell_type": "markdown",
      "source": [
        "# 문제3. 데이터 합치기"
      ],
      "metadata": {
        "id": "jC-A3rS8atCa"
      }
    },
    {
      "cell_type": "markdown",
      "source": [
        "- 두개의 나눠진 테이블 합치기 (컬럼이름 똑같아야 함)"
      ],
      "metadata": {
        "id": "bfZAZ1p5gLIi"
      }
    },
    {
      "cell_type": "code",
      "source": [
        ""
      ],
      "metadata": {
        "id": "PxO1S7DNjajC"
      },
      "execution_count": null,
      "outputs": []
    },
    {
      "cell_type": "markdown",
      "source": [
        "# 문제4. 결측치 확인"
      ],
      "metadata": {
        "id": "O6IdaFJxcZ3N"
      }
    },
    {
      "cell_type": "markdown",
      "source": [
        "- info 명령문 활용"
      ],
      "metadata": {
        "id": "9fraL0_ZgQXS"
      }
    },
    {
      "cell_type": "code",
      "source": [
        ""
      ],
      "metadata": {
        "id": "9LcW4GiUja94"
      },
      "execution_count": null,
      "outputs": []
    },
    {
      "cell_type": "markdown",
      "source": [
        "# 문제5. 데이터 분리"
      ],
      "metadata": {
        "id": "IY6VACoscdo4"
      }
    },
    {
      "cell_type": "markdown",
      "source": [
        "- Train 과 Test 데이터셋 분리 (비율 임의 선택)"
      ],
      "metadata": {
        "id": "sG0euZSGgToo"
      }
    },
    {
      "cell_type": "code",
      "source": [
        "from sklearn.model_selection import train_test_split\n"
      ],
      "metadata": {
        "id": "9FUu5-UFcc3g"
      },
      "execution_count": null,
      "outputs": []
    },
    {
      "cell_type": "markdown",
      "source": [
        "# 문제 6. Feature Scaling"
      ],
      "metadata": {
        "id": "ZGn19GmUd02m"
      }
    },
    {
      "cell_type": "markdown",
      "source": [
        "- StandardScaler 사용\n",
        "- train과 test 나눠서 별도 스케일링 필요"
      ],
      "metadata": {
        "id": "jfgPs-t2ghvF"
      }
    },
    {
      "cell_type": "code",
      "source": [
        "from sklearn.preprocessing import StandardScaler\n",
        "\n",
        "scaler = StandardScaler()\n"
      ],
      "metadata": {
        "id": "05EcwqYVd0Nx"
      },
      "execution_count": null,
      "outputs": []
    },
    {
      "cell_type": "markdown",
      "source": [
        "# 문제 7. \bModeling\n"
      ],
      "metadata": {
        "id": "sn5Y0sR5gp7V"
      }
    },
    {
      "cell_type": "markdown",
      "source": [
        "- 예시모델: 로지스틱회귀, Gaussian, Decision Tree, Random Forest, KNN, SVC, XGB, LGB,  \n",
        "- accuracy는 소수점 넷째자리까지 "
      ],
      "metadata": {
        "id": "MwBLXK2EiOMo"
      }
    },
    {
      "cell_type": "code",
      "source": [
        "from sklearn.linear_model import LogisticRegression\n",
        "from sklearn.metrics import accuracy_score\n"
      ],
      "metadata": {
        "id": "xiaDvbYPfNzJ"
      },
      "execution_count": null,
      "outputs": []
    },
    {
      "cell_type": "code",
      "source": [
        "from sklearn.tree import DecisionTreeClassifier\n"
      ],
      "metadata": {
        "id": "tNwyCfh3folg"
      },
      "execution_count": null,
      "outputs": []
    },
    {
      "cell_type": "code",
      "source": [
        "from sklearn.ensemble import RandomForestClassifier\n"
      ],
      "metadata": {
        "id": "yiGqmoKqfrYw"
      },
      "execution_count": null,
      "outputs": []
    },
    {
      "cell_type": "code",
      "source": [
        "from sklearn.neighbors import KNeighborsClassifier\n"
      ],
      "metadata": {
        "id": "ZScMtG1hfuTG"
      },
      "execution_count": null,
      "outputs": []
    },
    {
      "cell_type": "code",
      "source": [
        "from sklearn.svm import SVC\n"
      ],
      "metadata": {
        "id": "2VEod6Wlfxhq"
      },
      "execution_count": null,
      "outputs": []
    },
    {
      "cell_type": "code",
      "source": [
        "from xgboost.sklearn import XGBClassifier\n"
      ],
      "metadata": {
        "id": "e-6SFJatf0Yg"
      },
      "execution_count": null,
      "outputs": []
    },
    {
      "cell_type": "code",
      "source": [
        "from lightgbm.sklearn import LGBMClassifier\n"
      ],
      "metadata": {
        "id": "I3jVw5pDf3Fg"
      },
      "execution_count": null,
      "outputs": []
    },
    {
      "cell_type": "code",
      "source": [
        "print('Accuracy Comparisons for Binary Models\\n')\n",
        "print('logreg_score:', '{0:0.5f}'.format(logreg_score))\n",
        "print('dt_score   :', '{0:0.5f}'.format(dt_score))\n",
        "print('rf_score   :', '{0:0.5f}'.format(rf_score))\n",
        "print('knn_score   :', '{0:0.5f}'.format(knn_score))\n",
        "print('svm_score   :', '{0:0.5f}'.format(svm_score))\n",
        "print('xgb_score   :', '{0:0.5f}'.format(xgb_score))\n",
        "print('lgb_score   :', '{0:0.5f}'.format(lgb_score))"
      ],
      "metadata": {
        "id": "hXPrqpf4gdDt"
      },
      "execution_count": null,
      "outputs": []
    },
    {
      "cell_type": "markdown",
      "source": [
        "# 문제 8. Test 정확도 계산 (모델 중 하나 선정)"
      ],
      "metadata": {
        "id": "fxDS4ozAg0K9"
      }
    },
    {
      "cell_type": "code",
      "source": [
        ""
      ],
      "metadata": {
        "id": "61gO_stgjXZo"
      },
      "execution_count": null,
      "outputs": []
    },
    {
      "cell_type": "markdown",
      "source": [
        "# 문제9. Confusion Matrix 만들기"
      ],
      "metadata": {
        "id": "tj5Km8Jyg7Ko"
      }
    },
    {
      "cell_type": "code",
      "source": [
        "from sklearn.metrics import confusion_matrix\n"
      ],
      "metadata": {
        "id": "-3AjlcS-gGKC"
      },
      "execution_count": null,
      "outputs": []
    },
    {
      "cell_type": "markdown",
      "source": [
        "# 문제10. F1 Score"
      ],
      "metadata": {
        "id": "N9YMA4Fwhq95"
      }
    },
    {
      "cell_type": "code",
      "source": [
        "from sklearn.metrics import precision_score, recall_score, f1_score\n"
      ],
      "metadata": {
        "id": "rC4kSOxHhOXj"
      },
      "execution_count": null,
      "outputs": []
    },
    {
      "cell_type": "code",
      "source": [
        ""
      ],
      "metadata": {
        "id": "6XoF4JZlhphE"
      },
      "execution_count": null,
      "outputs": []
    }
  ]
}